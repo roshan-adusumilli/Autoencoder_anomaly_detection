{
  "nbformat": 4,
  "nbformat_minor": 0,
  "metadata": {
    "colab": {
      "name": "Autoencoder to Detect Accounting Anomalies",
      "provenance": [],
      "collapsed_sections": [],
      "machine_shape": "hm",
      "include_colab_link": true
    },
    "kernelspec": {
      "name": "python3",
      "display_name": "Python 3"
    },
    "accelerator": "GPU"
  },
  "cells": [
    {
      "cell_type": "markdown",
      "metadata": {
        "id": "view-in-github",
        "colab_type": "text"
      },
      "source": [
        "<a href=\"https://colab.research.google.com/github/roshan-adusumilli/Autoencoder_anomaly_detection/blob/master/Autoencoder_to_Detect_Accounting_Anomalies.ipynb\" target=\"_parent\"><img src=\"https://colab.research.google.com/assets/colab-badge.svg\" alt=\"Open In Colab\"/></a>"
      ]
    },
    {
      "cell_type": "markdown",
      "metadata": {
        "id": "zWVH20j-X_OB",
        "colab_type": "text"
      },
      "source": [
        "Make the various necessary imports"
      ]
    },
    {
      "cell_type": "code",
      "metadata": {
        "id": "WLuHn-y4YJW_",
        "colab_type": "code",
        "colab": {}
      },
      "source": [
        "# importing python utility libraries\n",
        "import os, sys, random, io, urllib\n",
        "from datetime import datetime\n",
        "\n",
        "# importing pytorch libraries\n",
        "import torch\n",
        "from torch import nn\n",
        "from torch.utils.data import DataLoader\n",
        "import torch.optim as optim\n",
        "from torch import autograd\n",
        "\n",
        "# importing data science libraries\n",
        "import pandas as pd\n",
        "import random as rd\n",
        "import numpy as np\n",
        "\n",
        "# importing python plotting libraries\n",
        "import matplotlib.pyplot as plt\n",
        "import seaborn as sns\n",
        "%matplotlib inline\n",
        "sns.set_style('darkgrid')\n",
        "from IPython.display import Image, display\n",
        "\n"
      ],
      "execution_count": 0,
      "outputs": []
    },
    {
      "cell_type": "code",
      "metadata": {
        "id": "0vHI2zoeqcHW",
        "colab_type": "code",
        "colab": {}
      },
      "source": [
        "USE_CUDA = True "
      ],
      "execution_count": 0,
      "outputs": []
    },
    {
      "cell_type": "markdown",
      "metadata": {
        "id": "_Gb5E3tDZ_JR",
        "colab_type": "text"
      },
      "source": [
        "Set the random seed "
      ]
    },
    {
      "cell_type": "markdown",
      "metadata": {
        "id": "tz_KkBS5tbUI",
        "colab_type": "text"
      },
      "source": [
        ""
      ]
    },
    {
      "cell_type": "code",
      "metadata": {
        "id": "LqtGMsTeYS2d",
        "colab_type": "code",
        "outputId": "8d828799-2b4f-45c2-db67-a1b279c54db8",
        "colab": {
          "base_uri": "https://localhost:8080/",
          "height": 34
        }
      },
      "source": [
        " rd.seed(1234)\n",
        "np.random.seed(1234)\n",
        "torch.manual_seed(1234)"
      ],
      "execution_count": 0,
      "outputs": [
        {
          "output_type": "execute_result",
          "data": {
            "text/plain": [
              "<torch._C.Generator at 0x7f98feb55850>"
            ]
          },
          "metadata": {
            "tags": []
          },
          "execution_count": 3
        }
      ]
    },
    {
      "cell_type": "markdown",
      "metadata": {
        "id": "aubvsddAagR3",
        "colab_type": "text"
      },
      "source": [
        "Import data into pandas data frame, then inspect first 5 rows of dataset"
      ]
    },
    {
      "cell_type": "code",
      "metadata": {
        "id": "V2SlDNDPcGHz",
        "colab_type": "code",
        "outputId": "a35c82a8-08f4-4cc8-f6c8-a75ffa8623e6",
        "colab": {
          "base_uri": "https://localhost:8080/",
          "height": 204
        }
      },
      "source": [
        "url = 'https://raw.githubusercontent.com/GitiHubi/deepAI/master/data/fraud_dataset_v2.csv'\n",
        "ori_dataset = pd.read_csv(url)\n",
        "ori_dataset.head()"
      ],
      "execution_count": 0,
      "outputs": [
        {
          "output_type": "execute_result",
          "data": {
            "text/html": [
              "<div>\n",
              "<style scoped>\n",
              "    .dataframe tbody tr th:only-of-type {\n",
              "        vertical-align: middle;\n",
              "    }\n",
              "\n",
              "    .dataframe tbody tr th {\n",
              "        vertical-align: top;\n",
              "    }\n",
              "\n",
              "    .dataframe thead th {\n",
              "        text-align: right;\n",
              "    }\n",
              "</style>\n",
              "<table border=\"1\" class=\"dataframe\">\n",
              "  <thead>\n",
              "    <tr style=\"text-align: right;\">\n",
              "      <th></th>\n",
              "      <th>BELNR</th>\n",
              "      <th>WAERS</th>\n",
              "      <th>BUKRS</th>\n",
              "      <th>KTOSL</th>\n",
              "      <th>PRCTR</th>\n",
              "      <th>BSCHL</th>\n",
              "      <th>HKONT</th>\n",
              "      <th>DMBTR</th>\n",
              "      <th>WRBTR</th>\n",
              "      <th>label</th>\n",
              "    </tr>\n",
              "  </thead>\n",
              "  <tbody>\n",
              "    <tr>\n",
              "      <th>0</th>\n",
              "      <td>288203</td>\n",
              "      <td>C3</td>\n",
              "      <td>C31</td>\n",
              "      <td>C9</td>\n",
              "      <td>C92</td>\n",
              "      <td>A3</td>\n",
              "      <td>B1</td>\n",
              "      <td>280979.60</td>\n",
              "      <td>0.00</td>\n",
              "      <td>regular</td>\n",
              "    </tr>\n",
              "    <tr>\n",
              "      <th>1</th>\n",
              "      <td>324441</td>\n",
              "      <td>C1</td>\n",
              "      <td>C18</td>\n",
              "      <td>C7</td>\n",
              "      <td>C76</td>\n",
              "      <td>A1</td>\n",
              "      <td>B2</td>\n",
              "      <td>129856.53</td>\n",
              "      <td>243343.00</td>\n",
              "      <td>regular</td>\n",
              "    </tr>\n",
              "    <tr>\n",
              "      <th>2</th>\n",
              "      <td>133537</td>\n",
              "      <td>C1</td>\n",
              "      <td>C19</td>\n",
              "      <td>C2</td>\n",
              "      <td>C20</td>\n",
              "      <td>A1</td>\n",
              "      <td>B3</td>\n",
              "      <td>957463.97</td>\n",
              "      <td>3183838.41</td>\n",
              "      <td>regular</td>\n",
              "    </tr>\n",
              "    <tr>\n",
              "      <th>3</th>\n",
              "      <td>331521</td>\n",
              "      <td>C4</td>\n",
              "      <td>C48</td>\n",
              "      <td>C9</td>\n",
              "      <td>C95</td>\n",
              "      <td>A2</td>\n",
              "      <td>B1</td>\n",
              "      <td>2681709.51</td>\n",
              "      <td>28778.00</td>\n",
              "      <td>regular</td>\n",
              "    </tr>\n",
              "    <tr>\n",
              "      <th>4</th>\n",
              "      <td>375333</td>\n",
              "      <td>C5</td>\n",
              "      <td>C58</td>\n",
              "      <td>C1</td>\n",
              "      <td>C19</td>\n",
              "      <td>A3</td>\n",
              "      <td>B1</td>\n",
              "      <td>910514.49</td>\n",
              "      <td>346.00</td>\n",
              "      <td>regular</td>\n",
              "    </tr>\n",
              "  </tbody>\n",
              "</table>\n",
              "</div>"
            ],
            "text/plain": [
              "    BELNR WAERS BUKRS KTOSL PRCTR BSCHL HKONT       DMBTR       WRBTR    label\n",
              "0  288203    C3   C31    C9   C92    A3    B1   280979.60        0.00  regular\n",
              "1  324441    C1   C18    C7   C76    A1    B2   129856.53   243343.00  regular\n",
              "2  133537    C1   C19    C2   C20    A1    B3   957463.97  3183838.41  regular\n",
              "3  331521    C4   C48    C9   C95    A2    B1  2681709.51    28778.00  regular\n",
              "4  375333    C5   C58    C1   C19    A3    B1   910514.49      346.00  regular"
            ]
          },
          "metadata": {
            "tags": []
          },
          "execution_count": 4
        }
      ]
    },
    {
      "cell_type": "markdown",
      "metadata": {
        "id": "Kr0yjmKSia-6",
        "colab_type": "text"
      },
      "source": [
        "We look at the labels and see 70 global anomalies and 30 local anomalies (which account for less than .02% of the entire dataset)"
      ]
    },
    {
      "cell_type": "code",
      "metadata": {
        "id": "iNEwNZwQhAO7",
        "colab_type": "code",
        "outputId": "5a15adb9-64b5-4d27-a5ef-0b3851190a14",
        "colab": {
          "base_uri": "https://localhost:8080/",
          "height": 85
        }
      },
      "source": [
        "ori_dataset.label.value_counts()"
      ],
      "execution_count": 0,
      "outputs": [
        {
          "output_type": "execute_result",
          "data": {
            "text/plain": [
              "regular    532909\n",
              "global         70\n",
              "local          30\n",
              "Name: label, dtype: int64"
            ]
          },
          "metadata": {
            "tags": []
          },
          "execution_count": 5
        }
      ]
    },
    {
      "cell_type": "markdown",
      "metadata": {
        "id": "5APvYsxyjk1Y",
        "colab_type": "text"
      },
      "source": [
        "Autoencoder is a form of unsupervised deep learning so we remove the label for further processing. Then, we one-hot encode the category attributes and apply log scaling and minmax scaling to numerical variables."
      ]
    },
    {
      "cell_type": "code",
      "metadata": {
        "id": "pwXXQlnVmxk_",
        "colab_type": "code",
        "colab": {}
      },
      "source": [
        "label = ori_dataset.pop('label')\n",
        "\n",
        "categorical_attr_names = ['KTOSL', 'PRCTR', 'BSCHL', 'HKONT', 'BUKRS', 'WAERS']\n",
        "ori_dataset_categ_transformed = pd.get_dummies(ori_dataset[categorical_attr_names])\n",
        "\n",
        "numeric_attr_names = ['DMBTR', 'WRBTR']\n",
        "numeric_attr = ori_dataset[numeric_attr_names] + 1e-4\n",
        "numeric_attr = numeric_attr.apply(np.log)\n",
        "ori_dataset_numeric_attr = (numeric_attr - numeric_attr.min()) / (numeric_attr.max() - numeric_attr.min())"
      ],
      "execution_count": 0,
      "outputs": []
    },
    {
      "cell_type": "markdown",
      "metadata": {
        "id": "_8Hp8ugtsic7",
        "colab_type": "text"
      },
      "source": [
        "Concatenate both attributes and look at the shape"
      ]
    },
    {
      "cell_type": "code",
      "metadata": {
        "id": "lasXHPI8s6mN",
        "colab_type": "code",
        "outputId": "30669440-da93-40ea-9e5f-effffa5ec4e0",
        "colab": {
          "base_uri": "https://localhost:8080/",
          "height": 34
        }
      },
      "source": [
        "ori_subset_transformed = pd.concat([ori_dataset_categ_transformed, ori_dataset_numeric_attr], axis = 1)\n",
        "ori_subset_transformed.shape"
      ],
      "execution_count": 0,
      "outputs": [
        {
          "output_type": "execute_result",
          "data": {
            "text/plain": [
              "(533009, 618)"
            ]
          },
          "metadata": {
            "tags": []
          },
          "execution_count": 7
        }
      ]
    },
    {
      "cell_type": "markdown",
      "metadata": {
        "id": "A8tldvFCtrSQ",
        "colab_type": "text"
      },
      "source": [
        "Let's implement the encoder network, we use the Leaky ReLU activation function instead of ReLU to avoid the vanishing gradient problem."
      ]
    },
    {
      "cell_type": "code",
      "metadata": {
        "id": "KB2IcCMntv-c",
        "colab_type": "code",
        "colab": {}
      },
      "source": [
        "class encoder(nn.Module):\n",
        "\n",
        "    def __init__(self):\n",
        "\n",
        "        super(encoder, self).__init__()\n",
        "\n",
        "        # specify layer 1 - in 618, out 512\n",
        "        self.encoder_L1 = nn.Linear(in_features=ori_subset_transformed.shape[1], out_features=512, bias=True) \n",
        "        nn.init.xavier_uniform_(self.encoder_L1.weight) \n",
        "        self.encoder_R1 = nn.LeakyReLU(negative_slope=0.4, inplace=True) \n",
        "\n",
        "        # specify layer 2 - in 512, out 256\n",
        "        self.encoder_L2 = nn.Linear(512, 256, bias=True)\n",
        "        nn.init.xavier_uniform_(self.encoder_L2.weight)\n",
        "        self.encoder_R2 = nn.LeakyReLU(negative_slope=0.4, inplace=True)\n",
        "\n",
        "        # specify layer 3 - in 256, out 128\n",
        "        self.encoder_L3 = nn.Linear(256, 128, bias=True)\n",
        "        nn.init.xavier_uniform_(self.encoder_L3.weight)\n",
        "        self.encoder_R3 = nn.LeakyReLU(negative_slope=0.4, inplace=True)\n",
        "\n",
        "        # specify layer 4 - in 128, out 64\n",
        "        self.encoder_L4 = nn.Linear(128, 64, bias=True)\n",
        "        nn.init.xavier_uniform_(self.encoder_L4.weight)\n",
        "        self.encoder_R4 = nn.LeakyReLU(negative_slope=0.4, inplace=True)\n",
        "\n",
        "        # specify layer 5 - in 64, out 32\n",
        "        self.encoder_L5 = nn.Linear(64, 32, bias=True)\n",
        "        nn.init.xavier_uniform_(self.encoder_L5.weight)\n",
        "        self.encoder_R5 = nn.LeakyReLU(negative_slope=0.4, inplace=True)\n",
        "\n",
        "        # specify layer 6 - in 32, out 16\n",
        "        self.encoder_L6 = nn.Linear(32, 16, bias=True)\n",
        "        nn.init.xavier_uniform_(self.encoder_L6.weight)\n",
        "        self.encoder_R6 = nn.LeakyReLU(negative_slope=0.4, inplace=True)\n",
        "\n",
        "        # specify layer 7 - in 16, out 8\n",
        "        self.encoder_L7 = nn.Linear(16, 8, bias=True)\n",
        "        nn.init.xavier_uniform_(self.encoder_L7.weight)\n",
        "        self.encoder_R7 = nn.LeakyReLU(negative_slope=0.4, inplace=True)\n",
        "\n",
        "        # specify layer 8 - in 8, out 4\n",
        "        self.encoder_L8 = nn.Linear(8, 4, bias=True)\n",
        "        nn.init.xavier_uniform_(self.encoder_L8.weight)\n",
        "        self.encoder_R8 = nn.LeakyReLU(negative_slope=0.4, inplace=True)\n",
        "\n",
        "        # specify layer 9 - in 4, out 3\n",
        "        self.encoder_L9 = nn.Linear(4, 3, bias=True)\n",
        "        nn.init.xavier_uniform_(self.encoder_L9.weight)\n",
        "        self.encoder_R9 = nn.LeakyReLU(negative_slope=0.4, inplace=True)\n",
        "\n",
        "        # init dropout layer with probability p\n",
        "        self.dropout = nn.Dropout(p=0.0, inplace=True)\n",
        "        \n",
        "    def forward(self, x):\n",
        "\n",
        "        # define forward pass through the network\n",
        "        x = self.encoder_R1(self.dropout(self.encoder_L1(x)))\n",
        "        x = self.encoder_R2(self.dropout(self.encoder_L2(x)))\n",
        "        x = self.encoder_R3(self.dropout(self.encoder_L3(x)))\n",
        "        x = self.encoder_R4(self.dropout(self.encoder_L4(x)))\n",
        "        x = self.encoder_R5(self.dropout(self.encoder_L5(x)))\n",
        "        x = self.encoder_R6(self.dropout(self.encoder_L6(x)))\n",
        "        x = self.encoder_R7(self.dropout(self.encoder_L7(x)))\n",
        "        x = self.encoder_R8(self.dropout(self.encoder_L8(x)))\n",
        "        x = self.encoder_R9(self.encoder_L9(x)) \n",
        "\n",
        "        return x\n",
        "\n",
        "encoder_train = encoder()"
      ],
      "execution_count": 0,
      "outputs": []
    },
    {
      "cell_type": "markdown",
      "metadata": {
        "id": "7GF_NAu1NRc5",
        "colab_type": "text"
      },
      "source": [
        "Print the initialized architecture "
      ]
    },
    {
      "cell_type": "code",
      "metadata": {
        "id": "EyYiIy7rOS0W",
        "colab_type": "code",
        "outputId": "aeb04d68-0119-40fd-94e7-2973daaad4d4",
        "colab": {
          "base_uri": "https://localhost:8080/",
          "height": 425
        }
      },
      "source": [
        "now = datetime.utcnow().strftime(\"%Y%m%d-%H:%M:%S\")\n",
        "print('[LOG {}] encoder architecture:\\n\\n{}\\n'.format(now, encoder_train))"
      ],
      "execution_count": 0,
      "outputs": [
        {
          "output_type": "stream",
          "text": [
            "[LOG 20191231-18:04:03] encoder architecture:\n",
            "\n",
            "encoder(\n",
            "  (encoder_L1): Linear(in_features=618, out_features=512, bias=True)\n",
            "  (encoder_R1): LeakyReLU(negative_slope=0.4, inplace=True)\n",
            "  (encoder_L2): Linear(in_features=512, out_features=256, bias=True)\n",
            "  (encoder_R2): LeakyReLU(negative_slope=0.4, inplace=True)\n",
            "  (encoder_L3): Linear(in_features=256, out_features=128, bias=True)\n",
            "  (encoder_R3): LeakyReLU(negative_slope=0.4, inplace=True)\n",
            "  (encoder_L4): Linear(in_features=128, out_features=64, bias=True)\n",
            "  (encoder_R4): LeakyReLU(negative_slope=0.4, inplace=True)\n",
            "  (encoder_L5): Linear(in_features=64, out_features=32, bias=True)\n",
            "  (encoder_R5): LeakyReLU(negative_slope=0.4, inplace=True)\n",
            "  (encoder_L6): Linear(in_features=32, out_features=16, bias=True)\n",
            "  (encoder_R6): LeakyReLU(negative_slope=0.4, inplace=True)\n",
            "  (encoder_L7): Linear(in_features=16, out_features=8, bias=True)\n",
            "  (encoder_R7): LeakyReLU(negative_slope=0.4, inplace=True)\n",
            "  (encoder_L8): Linear(in_features=8, out_features=4, bias=True)\n",
            "  (encoder_R8): LeakyReLU(negative_slope=0.4, inplace=True)\n",
            "  (encoder_L9): Linear(in_features=4, out_features=3, bias=True)\n",
            "  (encoder_R9): LeakyReLU(negative_slope=0.4, inplace=True)\n",
            "  (dropout): Dropout(p=0.0, inplace=True)\n",
            ")\n",
            "\n"
          ],
          "name": "stdout"
        }
      ]
    },
    {
      "cell_type": "markdown",
      "metadata": {
        "id": "IV6R-6tEOX4h",
        "colab_type": "text"
      },
      "source": [
        "Now we implement the decoder which symmetrically mirrors the encoder"
      ]
    },
    {
      "cell_type": "code",
      "metadata": {
        "id": "Q0q3xesROwJG",
        "colab_type": "code",
        "colab": {}
      },
      "source": [
        "class decoder(nn.Module):\n",
        "\n",
        "    def __init__(self):\n",
        "\n",
        "        super(decoder, self).__init__()\n",
        "\n",
        "        # specify layer 1 - in 3, out 4\n",
        "        self.decoder_L1 = nn.Linear(in_features=3, out_features=4, bias=True)  \n",
        "        nn.init.xavier_uniform_(self.decoder_L1.weight)  \n",
        "        self.decoder_R1 = nn.LeakyReLU(negative_slope=0.4, inplace=True) \n",
        "\n",
        "        # specify layer 2 - in 4, out 8\n",
        "        self.decoder_L2 = nn.Linear(4, 8, bias=True)\n",
        "        nn.init.xavier_uniform_(self.decoder_L2.weight)\n",
        "        self.decoder_R2 = nn.LeakyReLU(negative_slope=0.4, inplace=True)\n",
        "\n",
        "        # specify layer 3 - in 8, out 16\n",
        "        self.decoder_L3 = nn.Linear(8, 16, bias=True)\n",
        "        nn.init.xavier_uniform_(self.decoder_L3.weight)\n",
        "        self.decoder_R3 = nn.LeakyReLU(negative_slope=0.4, inplace=True)\n",
        "\n",
        "        # specify layer 4 - in 16, out 32\n",
        "        self.decoder_L4 = nn.Linear(16, 32, bias=True)\n",
        "        nn.init.xavier_uniform_(self.decoder_L4.weight)\n",
        "        self.decoder_R4 = nn.LeakyReLU(negative_slope=0.4, inplace=True)\n",
        "\n",
        "        # specify layer 5 - in 32, out 64\n",
        "        self.decoder_L5 = nn.Linear(32, 64, bias=True)\n",
        "        nn.init.xavier_uniform_(self.decoder_L5.weight)\n",
        "        self.decoder_R5 = nn.LeakyReLU(negative_slope=0.4, inplace=True)\n",
        "\n",
        "        # specify layer 6 - in 64, out 128\n",
        "        self.decoder_L6 = nn.Linear(64, 128, bias=True)\n",
        "        nn.init.xavier_uniform_(self.decoder_L6.weight)\n",
        "        self.decoder_R6 = nn.LeakyReLU(negative_slope=0.4, inplace=True)\n",
        "        \n",
        "        # specify layer 7 - in 128, out 256\n",
        "        self.decoder_L7 = nn.Linear(128, 256, bias=True)\n",
        "        nn.init.xavier_uniform_(self.decoder_L7.weight)\n",
        "        self.decoder_R7 = nn.LeakyReLU(negative_slope=0.4, inplace=True)\n",
        "\n",
        "        # specify layer 8 - in 256, out 512\n",
        "        self.decoder_L8 = nn.Linear(256, 512, bias=True)\n",
        "        nn.init.xavier_uniform_(self.decoder_L8.weight)\n",
        "        self.decoder_R8 = nn.LeakyReLU(negative_slope=0.4, inplace=True)\n",
        "\n",
        "        # specify layer 9 - in 512, out 618\n",
        "        self.decoder_L9 = nn.Linear(in_features=512, out_features=ori_subset_transformed.shape[1], bias=True)\n",
        "        nn.init.xavier_uniform_(self.decoder_L9.weight)\n",
        "        self.decoder_R9 = nn.LeakyReLU(negative_slope=0.4, inplace=True)\n",
        "\n",
        "        # init dropout layer with probability p\n",
        "        self.dropout = nn.Dropout(p=0.0, inplace=True)\n",
        "\n",
        "    def forward(self, x):\n",
        "\n",
        "        # define forward pass through the network\n",
        "        x = self.decoder_R1(self.dropout(self.decoder_L1(x)))\n",
        "        x = self.decoder_R2(self.dropout(self.decoder_L2(x)))\n",
        "        x = self.decoder_R3(self.dropout(self.decoder_L3(x)))\n",
        "        x = self.decoder_R4(self.dropout(self.decoder_L4(x)))\n",
        "        x = self.decoder_R5(self.dropout(self.decoder_L5(x)))\n",
        "        x = self.decoder_R6(self.dropout(self.decoder_L6(x)))\n",
        "        x = self.decoder_R7(self.dropout(self.decoder_L7(x)))\n",
        "        x = self.decoder_R8(self.dropout(self.decoder_L8(x)))\n",
        "        x = self.decoder_R9(self.decoder_L9(x))\n",
        "        \n",
        "        return x\n",
        "\n",
        "decoder_train = decoder()"
      ],
      "execution_count": 0,
      "outputs": []
    },
    {
      "cell_type": "markdown",
      "metadata": {
        "id": "lhSLKUuMP-Kg",
        "colab_type": "text"
      },
      "source": [
        "Let's look at the architecture for our decoder"
      ]
    },
    {
      "cell_type": "code",
      "metadata": {
        "id": "wx72nFQKQCtV",
        "colab_type": "code",
        "outputId": "504321be-4c6c-4282-f8db-9d36cff9662a",
        "colab": {
          "base_uri": "https://localhost:8080/",
          "height": 425
        }
      },
      "source": [
        "now = datetime.utcnow().strftime(\"%Y%m%d-%H:%M:%S\")\n",
        "print('[LOG {}] decoder architecture:\\n\\n{}\\n'.format(now, decoder_train))"
      ],
      "execution_count": 0,
      "outputs": [
        {
          "output_type": "stream",
          "text": [
            "[LOG 20191231-18:04:03] decoder architecture:\n",
            "\n",
            "decoder(\n",
            "  (decoder_L1): Linear(in_features=3, out_features=4, bias=True)\n",
            "  (decoder_R1): LeakyReLU(negative_slope=0.4, inplace=True)\n",
            "  (decoder_L2): Linear(in_features=4, out_features=8, bias=True)\n",
            "  (decoder_R2): LeakyReLU(negative_slope=0.4, inplace=True)\n",
            "  (decoder_L3): Linear(in_features=8, out_features=16, bias=True)\n",
            "  (decoder_R3): LeakyReLU(negative_slope=0.4, inplace=True)\n",
            "  (decoder_L4): Linear(in_features=16, out_features=32, bias=True)\n",
            "  (decoder_R4): LeakyReLU(negative_slope=0.4, inplace=True)\n",
            "  (decoder_L5): Linear(in_features=32, out_features=64, bias=True)\n",
            "  (decoder_R5): LeakyReLU(negative_slope=0.4, inplace=True)\n",
            "  (decoder_L6): Linear(in_features=64, out_features=128, bias=True)\n",
            "  (decoder_R6): LeakyReLU(negative_slope=0.4, inplace=True)\n",
            "  (decoder_L7): Linear(in_features=128, out_features=256, bias=True)\n",
            "  (decoder_R7): LeakyReLU(negative_slope=0.4, inplace=True)\n",
            "  (decoder_L8): Linear(in_features=256, out_features=512, bias=True)\n",
            "  (decoder_R8): LeakyReLU(negative_slope=0.4, inplace=True)\n",
            "  (decoder_L9): Linear(in_features=512, out_features=618, bias=True)\n",
            "  (decoder_R9): LeakyReLU(negative_slope=0.4, inplace=True)\n",
            "  (dropout): Dropout(p=0.0, inplace=True)\n",
            ")\n",
            "\n"
          ],
          "name": "stdout"
        }
      ]
    },
    {
      "cell_type": "markdown",
      "metadata": {
        "id": "AgvtwAJPQFzK",
        "colab_type": "text"
      },
      "source": [
        "Define loss function, learning rate, and optimizer "
      ]
    },
    {
      "cell_type": "code",
      "metadata": {
        "id": "cYnJ_ihrQztF",
        "colab_type": "code",
        "colab": {}
      },
      "source": [
        "loss_function = nn.BCEWithLogitsLoss(reduction='mean')\n",
        "learning_rate = 1e-3\n",
        "encoder_optimizer = torch.optim.Adam(encoder_train.parameters(), learning_rate)\n",
        "decoder_optimizer = torch.optim.Adam(decoder_train.parameters(), learning_rate)"
      ],
      "execution_count": 0,
      "outputs": []
    },
    {
      "cell_type": "markdown",
      "metadata": {
        "id": "56797o_0R8B1",
        "colab_type": "text"
      },
      "source": [
        "Specify the training paramaters"
      ]
    },
    {
      "cell_type": "code",
      "metadata": {
        "id": "bTsNOhDWR_Pt",
        "colab_type": "code",
        "colab": {}
      },
      "source": [
        "num_epochs = 8\n",
        "mini_batch_size = 128"
      ],
      "execution_count": 0,
      "outputs": []
    },
    {
      "cell_type": "markdown",
      "metadata": {
        "id": "CqqSfcZZSaHJ",
        "colab_type": "text"
      },
      "source": [
        "Convert pre-processed data into a pytorch tensor"
      ]
    },
    {
      "cell_type": "code",
      "metadata": {
        "id": "RRrGsT7vTNp3",
        "colab_type": "code",
        "colab": {}
      },
      "source": [
        "torch_dataset = torch.from_numpy(ori_subset_transformed.values).float()\n",
        "dataloader = DataLoader(torch_dataset, batch_size=mini_batch_size, shuffle=True, num_workers=0)"
      ],
      "execution_count": 0,
      "outputs": []
    },
    {
      "cell_type": "markdown",
      "metadata": {
        "id": "19iaRPupT4bT",
        "colab_type": "text"
      },
      "source": [
        "Now we begin training the encoder and decoder"
      ]
    },
    {
      "cell_type": "code",
      "metadata": {
        "id": "xhE3pW-vUUXF",
        "colab_type": "code",
        "outputId": "584b685e-ad9e-42c1-da29-99e45512ec2c",
        "colab": {
          "base_uri": "https://localhost:8080/",
          "height": 697
        }
      },
      "source": [
        "losses = []\n",
        "\n",
        "data = autograd.Variable(torch_dataset)\n",
        "\n",
        "for epoch in range(num_epochs):\n",
        "\n",
        "  mini_batch_count = 0\n",
        "\n",
        "  encoder_train.train()\n",
        "  decoder_train.train()\n",
        "\n",
        "  start_time = datetime.now()\n",
        "\n",
        "  for mini_batch_data in dataloader:\n",
        "\n",
        "      mini_batch_count += 1\n",
        "\n",
        "      mini_batch_torch = autograd.Variable(mini_batch_data)\n",
        "\n",
        "      #Forward pass\n",
        "      z_representation = encoder_train(mini_batch_torch)\n",
        "      mini_batch_reconstruction = decoder_train(z_representation)\n",
        "\n",
        "      #Determine reconstruction loss\n",
        "      reconstruction_loss = loss_function(mini_batch_reconstruction, mini_batch_torch)\n",
        "\n",
        "      #Backward pass\n",
        "      decoder_optimizer.zero_grad()\n",
        "      encoder_optimizer.zero_grad()\n",
        "\n",
        "      reconstruction_loss.backward()\n",
        "\n",
        "      #Update parameters for our model\n",
        "      decoder_optimizer.step()\n",
        "      encoder_optimizer.step()\n",
        "\n",
        "      #Monitor training progress by checking every 1000 mini batches\n",
        "      if mini_batch_count % 1000 == 0:\n",
        "        mode = 'GPU' if (torch.backends.cudnn.version() != None) and (USE_CUDA == True) else 'CPU'\n",
        "        \n",
        "        now = datetime.utcnow().strftime(\"%Y%m%d-%H:%M:%S\")\n",
        "        end_time = datetime.now() - start_time\n",
        "        print('[LOG {}] training status, epoch: [{:04}/{:04}], batch: {:04}, loss: {}, mode: {}, time required: {}'.format(now, (epoch+1), num_epochs, mini_batch_count, np.round(reconstruction_loss.item(), 4), mode, end_time))\n",
        "        \n",
        "        start_time = datetime.now()\n",
        "\n",
        "  #Evaluate our model's performance\n",
        "  encoder_train.cpu().eval()\n",
        "  decoder_train.cpu().eval()\n",
        "\n",
        "  reconstruction = decoder_train(encoder_train(data))\n",
        "\n",
        "  reconstruction_loss_all = loss_function(reconstruction, data)\n",
        "\n",
        "  losses.extend([reconstruction_loss_all.item()])\n",
        "\n",
        "  now = datetime.utcnow().strftime(\"%Y%m%d-%H:%M:%S\")\n",
        "  print('[LOG {}] training status, epoch: [{:04}/{:04}], loss: {:.10f}'.format(now, (epoch+1), num_epochs, reconstruction_loss_all.item()))\n",
        "\n",
        "  #Save model snapshot to disk\n",
        "  encoder_model_name = \"ep_{}_encoder_model.pth\".format((epoch+1))\n",
        "  torch.save(encoder_train.state_dict(), encoder_model_name)\n",
        "  \n",
        "\n",
        "  decoder_model_name = \"ep_{}_decoder_model.pth\".format((epoch+1))\n",
        "  torch.save(decoder_train.state_dict(), decoder_model_name)\n",
        "  "
      ],
      "execution_count": 0,
      "outputs": [
        {
          "output_type": "stream",
          "text": [
            "[LOG 20191231-18:22:53] training status, epoch: [0001/0008], batch: 1000, loss: 0.0067, mode: GPU, time required: 0:00:24.813384\n",
            "[LOG 20191231-18:23:19] training status, epoch: [0001/0008], batch: 2000, loss: 0.0056, mode: GPU, time required: 0:00:26.176171\n",
            "[LOG 20191231-18:23:48] training status, epoch: [0001/0008], batch: 3000, loss: 0.0052, mode: GPU, time required: 0:00:28.260237\n",
            "[LOG 20191231-18:24:17] training status, epoch: [0001/0008], batch: 4000, loss: 0.0039, mode: GPU, time required: 0:00:29.420332\n",
            "[LOG 20191231-18:24:41] training status, epoch: [0001/0008], loss: 0.0065578702\n",
            "[LOG 20191231-18:25:10] training status, epoch: [0002/0008], batch: 1000, loss: 0.0084, mode: GPU, time required: 0:00:29.233686\n",
            "[LOG 20191231-18:25:39] training status, epoch: [0002/0008], batch: 2000, loss: 0.0037, mode: GPU, time required: 0:00:28.795133\n",
            "[LOG 20191231-18:26:08] training status, epoch: [0002/0008], batch: 3000, loss: 0.0048, mode: GPU, time required: 0:00:29.136173\n",
            "[LOG 20191231-18:26:36] training status, epoch: [0002/0008], batch: 4000, loss: 0.0042, mode: GPU, time required: 0:00:27.630880\n",
            "[LOG 20191231-18:26:58] training status, epoch: [0002/0008], loss: 0.0052673197\n",
            "[LOG 20191231-18:27:27] training status, epoch: [0003/0008], batch: 1000, loss: 0.0039, mode: GPU, time required: 0:00:28.578874\n",
            "[LOG 20191231-18:27:55] training status, epoch: [0003/0008], batch: 2000, loss: 0.0044, mode: GPU, time required: 0:00:28.280030\n",
            "[LOG 20191231-18:28:24] training status, epoch: [0003/0008], batch: 3000, loss: 0.004, mode: GPU, time required: 0:00:28.411158\n",
            "[LOG 20191231-18:28:52] training status, epoch: [0003/0008], batch: 4000, loss: 0.0048, mode: GPU, time required: 0:00:28.243577\n",
            "[LOG 20191231-18:29:14] training status, epoch: [0003/0008], loss: 0.0038571258\n",
            "[LOG 20191231-18:29:42] training status, epoch: [0004/0008], batch: 1000, loss: 0.0037, mode: GPU, time required: 0:00:27.991649\n",
            "[LOG 20191231-18:30:10] training status, epoch: [0004/0008], batch: 2000, loss: 0.0051, mode: GPU, time required: 0:00:28.532903\n",
            "[LOG 20191231-18:30:38] training status, epoch: [0004/0008], batch: 3000, loss: 0.0035, mode: GPU, time required: 0:00:28.196170\n",
            "[LOG 20191231-18:31:07] training status, epoch: [0004/0008], batch: 4000, loss: 0.005, mode: GPU, time required: 0:00:28.065800\n",
            "[LOG 20191231-18:31:28] training status, epoch: [0004/0008], loss: 0.0035663701\n",
            "[LOG 20191231-18:31:56] training status, epoch: [0005/0008], batch: 1000, loss: 0.0034, mode: GPU, time required: 0:00:28.150245\n",
            "[LOG 20191231-18:32:24] training status, epoch: [0005/0008], batch: 2000, loss: 0.0033, mode: GPU, time required: 0:00:27.698173\n",
            "[LOG 20191231-18:32:52] training status, epoch: [0005/0008], batch: 3000, loss: 0.0069, mode: GPU, time required: 0:00:27.736801\n",
            "[LOG 20191231-18:33:19] training status, epoch: [0005/0008], batch: 4000, loss: 0.0038, mode: GPU, time required: 0:00:27.599813\n",
            "[LOG 20191231-18:33:42] training status, epoch: [0005/0008], loss: 0.0034021311\n",
            "[LOG 20191231-18:34:09] training status, epoch: [0006/0008], batch: 1000, loss: 0.0035, mode: GPU, time required: 0:00:27.802599\n",
            "[LOG 20191231-18:34:37] training status, epoch: [0006/0008], batch: 2000, loss: 0.0033, mode: GPU, time required: 0:00:27.912512\n",
            "[LOG 20191231-18:35:05] training status, epoch: [0006/0008], batch: 3000, loss: 0.0032, mode: GPU, time required: 0:00:28.175342\n",
            "[LOG 20191231-18:35:34] training status, epoch: [0006/0008], batch: 4000, loss: 0.0033, mode: GPU, time required: 0:00:28.396582\n",
            "[LOG 20191231-18:35:55] training status, epoch: [0006/0008], loss: 0.0032905312\n",
            "[LOG 20191231-18:36:24] training status, epoch: [0007/0008], batch: 1000, loss: 0.0032, mode: GPU, time required: 0:00:28.254611\n",
            "[LOG 20191231-18:36:52] training status, epoch: [0007/0008], batch: 2000, loss: 0.0028, mode: GPU, time required: 0:00:28.473830\n",
            "[LOG 20191231-18:37:21] training status, epoch: [0007/0008], batch: 3000, loss: 0.0029, mode: GPU, time required: 0:00:28.297926\n",
            "[LOG 20191231-18:37:49] training status, epoch: [0007/0008], batch: 4000, loss: 0.0031, mode: GPU, time required: 0:00:28.894868\n",
            "[LOG 20191231-18:38:12] training status, epoch: [0007/0008], loss: 0.0034216549\n",
            "[LOG 20191231-18:38:41] training status, epoch: [0008/0008], batch: 1000, loss: 0.0033, mode: GPU, time required: 0:00:29.265327\n",
            "[LOG 20191231-18:39:10] training status, epoch: [0008/0008], batch: 2000, loss: 0.0025, mode: GPU, time required: 0:00:28.970236\n",
            "[LOG 20191231-18:39:39] training status, epoch: [0008/0008], batch: 3000, loss: 0.0026, mode: GPU, time required: 0:00:28.857899\n",
            "[LOG 20191231-18:40:08] training status, epoch: [0008/0008], batch: 4000, loss: 0.0031, mode: GPU, time required: 0:00:29.265773\n",
            "[LOG 20191231-18:40:30] training status, epoch: [0008/0008], loss: 0.0027732425\n"
          ],
          "name": "stdout"
        }
      ]
    },
    {
      "cell_type": "markdown",
      "metadata": {
        "id": "yem2OLTzrmZl",
        "colab_type": "text"
      },
      "source": [
        "We'll plot the loss to see how our autoencoder is doing "
      ]
    },
    {
      "cell_type": "code",
      "metadata": {
        "id": "aLOzHbnUrgsB",
        "colab_type": "code",
        "outputId": "139cd7b2-d657-43db-a43b-ef6a36f69482",
        "colab": {
          "base_uri": "https://localhost:8080/",
          "height": 312
        }
      },
      "source": [
        "plt.plot(range(0,len(losses)), losses)\n",
        "plt.xlabel('Training epoch')\n",
        "plt.xlim([0,len(losses)])\n",
        "plt.ylabel('Reconstruction error')\n",
        "plt.title('Autoencoder Training Performace')"
      ],
      "execution_count": 0,
      "outputs": [
        {
          "output_type": "execute_result",
          "data": {
            "text/plain": [
              "Text(0.5, 1.0, 'Autoencoder Training Performace')"
            ]
          },
          "metadata": {
            "tags": []
          },
          "execution_count": 18
        },
        {
          "output_type": "display_data",
          "data": {
            "image/png": "[encoded data removed]",
            "text/plain": [
              "<Figure size 432x288 with 1 Axes>"
            ]
          },
          "metadata": {
            "tags": []
          }
        }
      ]
    },
    {
      "cell_type": "markdown",
      "metadata": {
        "id": "MeVBDL6t104d",
        "colab_type": "text"
      },
      "source": [
        "Load the pretrained models"
      ]
    },
    {
      "cell_type": "code",
      "metadata": {
        "id": "A89UF21w2E3_",
        "colab_type": "code",
        "outputId": "e1aa58e4-6ed8-4e24-8ff6-7500ebb1a084",
        "colab": {
          "base_uri": "https://localhost:8080/",
          "height": 34
        }
      },
      "source": [
        "encoder_model_name = \"ep_8_encoder_model.pth\"\n",
        "decoder_model_name = \"ep_8_decoder_model.pth\"\n",
        "\n",
        "encoder_eval = encoder()\n",
        "decoder_eval = decoder()\n",
        "\n",
        "encoder_eval.load_state_dict(torch.load(encoder_model_name))\n",
        "decoder_eval.load_state_dict(torch.load(decoder_model_name))"
      ],
      "execution_count": 0,
      "outputs": [
        {
          "output_type": "execute_result",
          "data": {
            "text/plain": [
              "<All keys matched successfully>"
            ]
          },
          "metadata": {
            "tags": []
          },
          "execution_count": 20
        }
      ]
    },
    {
      "cell_type": "markdown",
      "metadata": {
        "id": "YOM1AaqW2MQs",
        "colab_type": "text"
      },
      "source": [
        "Convert encoded transactional data to torch variable and reconstruct encoded transactional data"
      ]
    },
    {
      "cell_type": "code",
      "metadata": {
        "id": "pEQPJAFK2u2b",
        "colab_type": "code",
        "colab": {}
      },
      "source": [
        "data = autograd.Variable(torch_dataset)\n",
        "\n",
        "encoder_eval.eval()\n",
        "decoder_eval.eval()\n",
        "\n",
        "reconstruction = decoder_eval(encoder_eval(data))"
      ],
      "execution_count": 0,
      "outputs": []
    },
    {
      "cell_type": "markdown",
      "metadata": {
        "id": "83lWuOlF4sWv",
        "colab_type": "text"
      },
      "source": [
        "Determine reconstruction loss for all transactions"
      ]
    },
    {
      "cell_type": "code",
      "metadata": {
        "id": "YILTaSIbdm-p",
        "colab_type": "code",
        "outputId": "15fe65b5-f2b6-4ab7-ea6c-75fbbcada376",
        "colab": {
          "base_uri": "https://localhost:8080/",
          "height": 51
        }
      },
      "source": [
        "reconstruction_loss_all = loss_function(reconstruction, data)\n",
        "\n",
        "now = datetime.utcnow().strftime(\"%Y%m%d-%H:%M:%S\")\n",
        "print('[LOG {}] collected reconstruction loss of: {:06}/{:06} transactions'.format(now, reconstruction.size()[0], reconstruction.size()[0]))\n",
        "print('[LOG {}] reconstruction loss: {:.10f}'.format(now, reconstruction_loss_all.item()))"
      ],
      "execution_count": 0,
      "outputs": [
        {
          "output_type": "stream",
          "text": [
            "[LOG 20191231-19:47:52] collected reconstruction loss of: 533009/533009 transactions\n",
            "[LOG 20191231-19:47:52] reconstruction loss: 0.0027732425\n"
          ],
          "name": "stdout"
        }
      ]
    },
    {
      "cell_type": "markdown",
      "metadata": {
        "id": "FzJsra7XiZt6",
        "colab_type": "text"
      },
      "source": [
        "Determine reconstruction loss for individual transactions"
      ]
    },
    {
      "cell_type": "code",
      "metadata": {
        "id": "GSpHwP9oihwR",
        "colab_type": "code",
        "outputId": "c8825064-9707-432e-9871-cd952dd585d2",
        "colab": {
          "base_uri": "https://localhost:8080/",
          "height": 119
        }
      },
      "source": [
        "reconstruction_loss_transaction = np.zeros(reconstruction.size()[0])\n",
        "\n",
        "for i in range(0, reconstruction.size()[0]):\n",
        "\n",
        "  reconstruction_loss_transaction[i] = loss_function(reconstruction[i],data[i]).item()\n",
        "\n",
        "  if(i % 100000 == 0):\n",
        "    now = datetime.utcnow().strftime(\"%Y%m%d-%H:%M:%S\")\n",
        "    print('[LOG {}] collected individual reconstruction loss of: {:06}/{:06} transactions'.format(now, i, reconstruction.size()[0]))"
      ],
      "execution_count": 0,
      "outputs": [
        {
          "output_type": "stream",
          "text": [
            "[LOG 20191231-20:08:28] collected individual reconstruction loss of: 000000/533009 transactions\n",
            "[LOG 20191231-20:08:36] collected individual reconstruction loss of: 100000/533009 transactions\n",
            "[LOG 20191231-20:08:44] collected individual reconstruction loss of: 200000/533009 transactions\n",
            "[LOG 20191231-20:08:52] collected individual reconstruction loss of: 300000/533009 transactions\n",
            "[LOG 20191231-20:09:00] collected individual reconstruction loss of: 400000/533009 transactions\n",
            "[LOG 20191231-20:09:09] collected individual reconstruction loss of: 500000/533009 transactions\n"
          ],
          "name": "stdout"
        }
      ]
    },
    {
      "cell_type": "markdown",
      "metadata": {
        "id": "4ijKSixrkvpg",
        "colab_type": "text"
      },
      "source": [
        "Plot data points with their reconstruction losses"
      ]
    },
    {
      "cell_type": "code",
      "metadata": {
        "id": "QGJHS89vus39",
        "colab_type": "code",
        "outputId": "385ac0d3-ec4c-46ab-cdc4-368097120005",
        "colab": {
          "base_uri": "https://localhost:8080/",
          "height": 282
        }
      },
      "source": [
        "fig = plt.figure()\n",
        "ax = fig.add_subplot(111)\n",
        "\n",
        "plot_data = np.column_stack((np.arange(len(reconstruction_loss_transaction)), reconstruction_loss_transaction))\n",
        "\n",
        "regular_data = plot_data[label == 'regular']\n",
        "local_outliers = plot_data[label == 'local']\n",
        "global_outliers = plot_data[label == 'global']\n",
        "\n",
        "ax.scatter(regular_data[:,0], regular_data[:,1], c='C0', alpha=0.4, marker='o', label='regular')\n",
        "ax.scatter(local_outliers[:,0], local_outliers[:,1], c='C2', marker='^', label='local')\n",
        "ax.scatter(global_outliers[:,0], global_outliers[:,1], c='C1', marker='^', label='global')\n",
        "\n",
        "ax.legend(loc='best')"
      ],
      "execution_count": 0,
      "outputs": [
        {
          "output_type": "execute_result",
          "data": {
            "text/plain": [
              "<matplotlib.legend.Legend at 0x7f95b913c320>"
            ]
          },
          "metadata": {
            "tags": []
          },
          "execution_count": 28
        },
        {
          "output_type": "display_data",
          "data": {
            "image/png": "[encoded data removed]",
            "text/plain": [
              "<Figure size 432x288 with 1 Axes>"
            ]
          },
          "metadata": {
            "tags": []
          }
        }
      ]
    },
    {
      "cell_type": "markdown",
      "metadata": {
        "id": "0R5Hxe_h1F14",
        "colab_type": "text"
      },
      "source": [
        "Finally, we look at the number of local and global anomalies detected"
      ]
    },
    {
      "cell_type": "code",
      "metadata": {
        "id": "eT4yCVFb3RpN",
        "colab_type": "code",
        "outputId": "8f19d6d7-7c52-496d-90eb-ca4fa671f493",
        "colab": {
          "base_uri": "https://localhost:8080/",
          "height": 68
        }
      },
      "source": [
        "ori_dataset['label'] = label\n",
        "ori_dataset[reconstruction_loss_transaction >= 0.1].label.value_counts()"
      ],
      "execution_count": 0,
      "outputs": [
        {
          "output_type": "execute_result",
          "data": {
            "text/plain": [
              "global    55\n",
              "local      8\n",
              "Name: label, dtype: int64"
            ]
          },
          "metadata": {
            "tags": []
          },
          "execution_count": 29
        }
      ]
    },
    {
      "cell_type": "code",
      "metadata": {
        "id": "I9zarUpN4Brb",
        "colab_type": "code",
        "outputId": "3cb7586f-4aca-4bb3-bc73-bcec3143e109",
        "colab": {
          "base_uri": "https://localhost:8080/",
          "height": 68
        }
      },
      "source": [
        "ori_dataset[(reconstruction_loss_transaction >= 0.018) & (reconstruction_loss_transaction < 0.05)].label.value_counts()"
      ],
      "execution_count": 0,
      "outputs": [
        {
          "output_type": "execute_result",
          "data": {
            "text/plain": [
              "local     15\n",
              "global     1\n",
              "Name: label, dtype: int64"
            ]
          },
          "metadata": {
            "tags": []
          },
          "execution_count": 30
        }
      ]
    },
    {
      "cell_type": "markdown",
      "metadata": {
        "id": "NDEzIUBu4ddX",
        "colab_type": "text"
      },
      "source": [
        "We identified 80% (56/70) of the global anomalies and 77% (23/30) of the local anomalies which is excellent when you keep in mind that outliers were only 0.018% of the whole dataset."
      ]
    }
  ]
}